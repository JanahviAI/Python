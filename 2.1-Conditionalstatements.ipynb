{
 "cells": [
  {
   "cell_type": "markdown",
   "metadata": {},
   "source": [
    "## Conditional Statements"
   ]
  },
  {
   "cell_type": "code",
   "execution_count": 5,
   "metadata": {},
   "outputs": [
    {
     "name": "stdout",
     "output_type": "stream",
     "text": [
      "Eligible\n"
     ]
    }
   ],
   "source": [
    "## if statement\n",
    "\n",
    "age=24\n",
    "\n",
    "if age>=18:\n",
    "    print(\"Eligible\")\n",
    "      "
   ]
  },
  {
   "cell_type": "code",
   "execution_count": 7,
   "metadata": {},
   "outputs": [
    {
     "name": "stdout",
     "output_type": "stream",
     "text": [
      "Not Eligible\n"
     ]
    }
   ],
   "source": [
    "## else statement\n",
    "## the else statement executes a block of code if the condition in the if statement is false.\n",
    "\n",
    "age=13\n",
    "\n",
    "if age>=18:\n",
    "    print (\"Eligible\")\n",
    "else:\n",
    "    print(\"Not Eligible\")"
   ]
  },
  {
   "cell_type": "code",
   "execution_count": 9,
   "metadata": {},
   "outputs": [
    {
     "name": "stdout",
     "output_type": "stream",
     "text": [
      "You are an adult.\n"
     ]
    }
   ],
   "source": [
    "## elif statement\n",
    "## The elif statement allows you to check multiple conditions. it stands of \"else if\"\n",
    "\n",
    "age=20\n",
    "\n",
    "if age<13:\n",
    "    print(\"You are a child.\")\n",
    "elif age<18:\n",
    "    print(\"You are a teenager.\")\n",
    "else:\n",
    "    print(\"You are an adult.\")\n",
    "    "
   ]
  },
  {
   "cell_type": "code",
   "execution_count": 17,
   "metadata": {},
   "outputs": [
    {
     "name": "stdout",
     "output_type": "stream",
     "text": [
      "number is positive\n",
      "number is odd.\n"
     ]
    }
   ],
   "source": [
    "## Nested conditional statement\n",
    "\n",
    "# You can place one or more if, elif, or else statements inside another if, elif, or else statement to create nested conditional statements.\n",
    "\n",
    "## number- even odd or negative\n",
    "\n",
    "num=int(input(\"enter the number.\"))\n",
    "\n",
    "if num>0:\n",
    "    print(\"number is positive\")\n",
    "    if num%2==0:\n",
    "        print(\"number is even.\")\n",
    "    else:\n",
    "        print(\"number is odd.\")\n",
    "elif num==0:\n",
    "    print(\"number is zero.\")\n",
    "else:\n",
    "    print(\"Number is negative.\")\n",
    "    "
   ]
  },
  {
   "cell_type": "code",
   "execution_count": 26,
   "metadata": {},
   "outputs": [
    {
     "name": "stdout",
     "output_type": "stream",
     "text": [
      "1217 is not a leap year.\n"
     ]
    }
   ],
   "source": [
    "## Practical examples\n",
    "\n",
    "## Determine if a year is a leap year using nested condotional statement\n",
    "\n",
    "year=int(input(\"Enter year:\"))\n",
    "\n",
    "if year%400==0:\n",
    "    print(year, \"is a leap year.\")\n",
    "elif year%4==0:\n",
    "    if year%100==0:\n",
    "        print(\"Not a leap year.\")\n",
    "    else:\n",
    "        print(\"Leap year.\")\n",
    "else:\n",
    "    print(year,  \"is not a leap year.\")"
   ]
  },
  {
   "cell_type": "code",
   "execution_count": 27,
   "metadata": {},
   "outputs": [
    {
     "name": "stdout",
     "output_type": "stream",
     "text": [
      "1217 is not a leap year.\n"
     ]
    }
   ],
   "source": [
    "if year%4==0:\n",
    "    if year%100==0:\n",
    "        if year%400==0:\n",
    "            print(year,\"is a leap year.\")\n",
    "        else:\n",
    "            print(year, \"is not a leap year.\")\n",
    "    else:\n",
    "        print(year, \"is not a leap year.\")\n",
    "else:\n",
    "    print(year, \"is not a leap year.\")"
   ]
  },
  {
   "cell_type": "code",
   "execution_count": 33,
   "metadata": {},
   "outputs": [
    {
     "name": "stdout",
     "output_type": "stream",
     "text": [
      "Result: invalid operation\n"
     ]
    }
   ],
   "source": [
    "## Assignent\n",
    "# Simple calculator take input: numbers and operations\n",
    "\n",
    "n1=float(input(\"Enter 1st number.\"))\n",
    "n2=float(input(\"Enter 2nd number.\"))\n",
    "Operation=input(\"Enter operation(+,-,/,*):\")\n",
    "\n",
    "if Operation==\"+\":\n",
    "    result=n1+n2\n",
    "elif Operation==\"-\":\n",
    "    result=n1-n2\n",
    "elif Operation==\"*\":\n",
    "    result=n1*n2\n",
    "elif Operation==\"/\":\n",
    "    if n2==0:\n",
    "        print(\"Operation not possible.\")\n",
    "    else:\n",
    "        result=n1/n2\n",
    "else:\n",
    "    result=\"invalid operation\"\n",
    "print(\"Result:\", result)\n"
   ]
  },
  {
   "cell_type": "code",
   "execution_count": null,
   "metadata": {},
   "outputs": [],
   "source": []
  }
 ],
 "metadata": {
  "kernelspec": {
   "display_name": "base",
   "language": "python",
   "name": "python3"
  },
  "language_info": {
   "codemirror_mode": {
    "name": "ipython",
    "version": 3
   },
   "file_extension": ".py",
   "mimetype": "text/x-python",
   "name": "python",
   "nbconvert_exporter": "python",
   "pygments_lexer": "ipython3",
   "version": "3.12.7"
  }
 },
 "nbformat": 4,
 "nbformat_minor": 2
}
