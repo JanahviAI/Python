{
 "cells": [
  {
   "cell_type": "markdown",
   "metadata": {},
   "source": [
    "# Lesson 1.2: Python Basics\n",
    "## Topics Covered:\n",
    "- Syntax and Semantics\n",
    "- Variables and Data Types\n",
    "- Basic Operators (Arithmetic, Comparison, Logical)\n"
   ]
  },
  {
   "cell_type": "markdown",
   "metadata": {},
   "source": [
    "## 1. Syntax and Semantics\n",
    "\n",
    "**Question 1:** Write a Python program to print \"Hello, World!\"."
   ]
  },
  {
   "cell_type": "code",
   "execution_count": 1,
   "metadata": {},
   "outputs": [
    {
     "name": "stdout",
     "output_type": "stream",
     "text": [
      "Hello, World!\n"
     ]
    }
   ],
   "source": [
    "# Your code here\n",
    "\n",
    "print(\"Hello, World!\")"
   ]
  },
  {
   "cell_type": "markdown",
   "metadata": {},
   "source": [
    "**Question 2:** Write a Python program that takes a user input and prints it."
   ]
  },
  {
   "cell_type": "code",
   "execution_count": 2,
   "metadata": {},
   "outputs": [
    {
     "name": "stdout",
     "output_type": "stream",
     "text": [
      "Janavhi\n"
     ]
    }
   ],
   "source": [
    "# Your code here\n",
    "\n",
    "print(input(\"Name:\"))"
   ]
  },
  {
   "cell_type": "markdown",
   "metadata": {},
   "source": [
    "**Question 3:** Write a Python program to check if a number is positive, negative, or zero."
   ]
  },
  {
   "cell_type": "code",
   "execution_count": 8,
   "metadata": {},
   "outputs": [
    {
     "name": "stdout",
     "output_type": "stream",
     "text": [
      "-23.0 is Negative\n"
     ]
    }
   ],
   "source": [
    "# Your code here\n",
    "Num=float(input(\"Enter a Number:\"))\n",
    "if Num>0:\n",
    "    print(Num, \"is positive.\")\n",
    "elif Num<0:\n",
    "    print(Num, \"is Negative\")\n",
    "else:\n",
    "    print(Num, \"is zero.\")"
   ]
  },
  {
   "cell_type": "markdown",
   "metadata": {},
   "source": [
    "**Question 4:** Write a Python program to find the largest of three numbers."
   ]
  },
  {
   "cell_type": "code",
   "execution_count": 16,
   "metadata": {},
   "outputs": [
    {
     "name": "stdout",
     "output_type": "stream",
     "text": [
      "78.0 is Greatest.\n"
     ]
    }
   ],
   "source": [
    "# Your code here\n",
    "Num1=float(input(\"Enter 1st number.\"))\n",
    "Num2=float(input(\"Enter 2nd number.\"))\n",
    "Num3=float(input(\"Enter 3rd number.\"))\n",
    "if Num1>Num2 and Num2>Num3:\n",
    "    print(Num1, \"is Greatest.\")\n",
    "elif Num2>Num1 and Num1>Num3:\n",
    "    print(Num2, \"is Greatest.\")\n",
    "else:\n",
    "    print(Num3, \"is Greatest.\")"
   ]
  },
  {
   "cell_type": "markdown",
   "metadata": {},
   "source": [
    "**Question 5:** Write a Python program to calculate the factorial of a number."
   ]
  },
  {
   "cell_type": "code",
   "execution_count": 5,
   "metadata": {},
   "outputs": [
    {
     "name": "stdout",
     "output_type": "stream",
     "text": [
      "The factorial of 5 is 120\n"
     ]
    }
   ],
   "source": [
    "# Your code here\n",
    "\n",
    "def factorial(n):\n",
    "    if n==0:\n",
    "        return 1\n",
    "    else:\n",
    "        return n*factorial(n-1)\n",
    "        \n",
    "num=int(input(\"ENter number:\"))\n",
    "print(f\"The factorial of {num} is {factorial(num)}\")        "
   ]
  },
  {
   "cell_type": "markdown",
   "metadata": {},
   "source": [
    "How it Works (Example):\n",
    "Input: n = 3\n",
    "First call: factorial(3)\n",
    "Enters the else block and computes 3×factorial(2)\n",
    "\n",
    "Second call: factorial(2)\n",
    "Enters the else block and computes 2×factorial(1).\n",
    "\n",
    "Third call: factorial(1)\n",
    "Enters the else block and computes 1×factorial(0).\n",
    "\n",
    "Fourth call (base case): factorial(0)\n",
    "Returns 1 because n==0.\n",
    "Now the recursion \"unwinds\":\n",
    "\n",
    "factorial(1) returns 1×1=1.\n",
    "factorial(2) returns 2×1=2.\n",
    "factorial(3) returns 3×2=6."
   ]
  },
  {
   "cell_type": "markdown",
   "metadata": {},
   "source": [
    "## 2. Variables and Data Types\n",
    "\n",
    "**Question 6:** Create variables of different data types: integer, float, string, and boolean. Print their values and types."
   ]
  },
  {
   "cell_type": "code",
   "execution_count": 2,
   "metadata": {},
   "outputs": [
    {
     "name": "stdout",
     "output_type": "stream",
     "text": [
      "34 <class 'int'>\n",
      "3.67 <class 'float'>\n",
      "chapati <class 'str'>\n",
      "True <class 'bool'>\n"
     ]
    }
   ],
   "source": [
    "# Your code here\n",
    "a=34\n",
    "b=3.67\n",
    "c=\"chapati\"\n",
    "d=True\n",
    "print(a,type(a))\n",
    "print(b,type(b))\n",
    "print(c,type(c))\n",
    "print(d,type(d))\n",
    "\n"
   ]
  },
  {
   "cell_type": "markdown",
   "metadata": {},
   "source": [
    "**Question 7:** Write a Python program to swap the values of two variables."
   ]
  },
  {
   "cell_type": "code",
   "execution_count": 7,
   "metadata": {},
   "outputs": [
    {
     "name": "stdout",
     "output_type": "stream",
     "text": [
      "before swapping, a=janahvi and b=singh\n",
      "After swapping, a=singh and b=janahvi\n"
     ]
    }
   ],
   "source": [
    "# Your code here\n",
    "\n",
    "a=input(\"variable 1\")\n",
    "b=input(\"variable 2\")\n",
    "print(f\"before swapping, a={a} and b={b}\")\n",
    "\n",
    "a,b = b,a\n",
    "print(f\"After swapping, a={a} and b={b}\")"
   ]
  },
  {
   "cell_type": "markdown",
   "metadata": {},
   "source": [
    "**Question 8:** Write a Python program to convert Celsius to Fahrenheit."
   ]
  },
  {
   "cell_type": "code",
   "execution_count": 10,
   "metadata": {},
   "outputs": [
    {
     "name": "stdout",
     "output_type": "stream",
     "text": [
      "77.0 °F\n"
     ]
    }
   ],
   "source": [
    "# Your code here\n",
    "\n",
    "##Fahrenheit=(Celsius×9/5)+32\n",
    "\n",
    "celsius=float(input(\"Enter TEmperature in Celcius\")) #25°C\n",
    "Fahrenheit=celsius*(9/5)+32\n",
    "print(Fahrenheit,\"°F\")"
   ]
  },
  {
   "cell_type": "markdown",
   "metadata": {},
   "source": [
    "**Question 9:** Write a Python program to concatenate two strings."
   ]
  },
  {
   "cell_type": "code",
   "execution_count": 11,
   "metadata": {},
   "outputs": [
    {
     "name": "stdout",
     "output_type": "stream",
     "text": [
      "happybirthday\n"
     ]
    }
   ],
   "source": [
    "# Your code here\n",
    "str1=str(input(\"str1\"))\n",
    "str2=str(input(\"str2\"))\n",
    "result=str1+str2\n",
    "print(result)"
   ]
  },
  {
   "cell_type": "markdown",
   "metadata": {},
   "source": []
  },
  {
   "cell_type": "markdown",
   "metadata": {},
   "source": [
    "**Question 10:** Write a Python program to check if a variable is of a specific data type."
   ]
  },
  {
   "cell_type": "code",
   "execution_count": 14,
   "metadata": {},
   "outputs": [
    {
     "name": "stdout",
     "output_type": "stream",
     "text": [
      "10.5 is a float\n"
     ]
    }
   ],
   "source": [
    "# Your code here\n",
    "\n",
    "var = 10.5\n",
    "if isinstance(var, float):\n",
    "    print(f\"{var} is a float\")\n",
    "else:\n",
    "    print(f\"{var} is not a float\")"
   ]
  },
  {
   "cell_type": "markdown",
   "metadata": {},
   "source": [
    "## 3. Basic Operators (Arithmetic, Comparison, Logical)\n",
    "\n",
    "**Question 11:** Write a Python program to perform arithmetic operations: addition, subtraction, multiplication, and division."
   ]
  },
  {
   "cell_type": "code",
   "execution_count": 12,
   "metadata": {},
   "outputs": [
    {
     "name": "stdout",
     "output_type": "stream",
     "text": [
      "5.0\n",
      "-1.0\n",
      "6.0\n",
      "0.6666666666666666\n"
     ]
    }
   ],
   "source": [
    "# Your code here\n",
    "a=float(input(\"a=\"))\n",
    "b=float(input(\"b=\"))\n",
    "add=a+b\n",
    "sub=a-b\n",
    "mul=a*b\n",
    "div=a/b\n",
    "print(add)\n",
    "print(sub)\n",
    "print(mul)\n",
    "print(div)"
   ]
  },
  {
   "cell_type": "markdown",
   "metadata": {},
   "source": [
    "**Question 12:** Write a Python program to demonstrate comparison operators: equal to, not equal to, greater than, less than."
   ]
  },
  {
   "cell_type": "code",
   "execution_count": 18,
   "metadata": {},
   "outputs": [
    {
     "name": "stdout",
     "output_type": "stream",
     "text": [
      "a is less than b.\n"
     ]
    }
   ],
   "source": [
    "# Your code here\n",
    "a=float(input(\"a\"))\n",
    "b=float(input(\"b\"))\n",
    "if a==b:\n",
    "    print(\"a and b is equal.\")\n",
    "else:\n",
    "    if a>b:\n",
    "        print(\"a is greater than b.\")\n",
    "    else:\n",
    "        print(\"a is less than b.\")\n",
    "        \n",
    " #a=3 b=5       "
   ]
  },
  {
   "cell_type": "markdown",
   "metadata": {},
   "source": [
    "**Question 13:** Write a Python program to demonstrate logical operators: and, or, not."
   ]
  },
  {
   "cell_type": "code",
   "execution_count": 1,
   "metadata": {},
   "outputs": [
    {
     "name": "stdout",
     "output_type": "stream",
     "text": [
      "a and b=False\n",
      "a or b=True\n",
      "a not=False and b not=True\n"
     ]
    }
   ],
   "source": [
    "# Your code here\n",
    "\n",
    "a=True\n",
    "b=False\n",
    "print(f\"a and b={a and b}\")\n",
    "print(f\"a or b={a or b}\")\n",
    "print(f\"a not={not a} and b not={not b}\")"
   ]
  },
  {
   "cell_type": "markdown",
   "metadata": {},
   "source": [
    "**Question 14:** Write a Python program to calculate the square of a number."
   ]
  },
  {
   "cell_type": "code",
   "execution_count": 21,
   "metadata": {},
   "outputs": [
    {
     "name": "stdout",
     "output_type": "stream",
     "text": [
      "64.0\n"
     ]
    }
   ],
   "source": [
    "# Your code here\n",
    "\n",
    "a=float(input(\"enter number:\"))\n",
    "square=a*a\n",
    "print(square)"
   ]
  },
  {
   "cell_type": "markdown",
   "metadata": {},
   "source": [
    "**Question 15:** Write a Python program to check if a number is even or odd."
   ]
  },
  {
   "cell_type": "code",
   "execution_count": 36,
   "metadata": {},
   "outputs": [
    {
     "name": "stdout",
     "output_type": "stream",
     "text": [
      "even\n"
     ]
    }
   ],
   "source": [
    "# Your code here\n",
    "a=int(input(\"enter number:\"))\n",
    "if a<=0:\n",
    "    print(\"invalid\")\n",
    "else:\n",
    "    if a%2==0:\n",
    "         print(\"even\")\n",
    "    else: \n",
    "         print(\"odd\")  \n",
    "         "
   ]
  },
  {
   "cell_type": "markdown",
   "metadata": {},
   "source": [
    "**Question 16:** Write a Python program to find the sum of the first n natural numbers."
   ]
  },
  {
   "cell_type": "code",
   "execution_count": 8,
   "metadata": {},
   "outputs": [
    {
     "name": "stdout",
     "output_type": "stream",
     "text": [
      "55\n"
     ]
    }
   ],
   "source": [
    "# Your code here\n",
    "num=0\n",
    "sum=0\n",
    "n=int(input(\"Enter value of n:\"))\n",
    "while num<=n:\n",
    "    sum=sum+num\n",
    "    num=num+1\n",
    "print(sum)    "
   ]
  },
  {
   "cell_type": "markdown",
   "metadata": {},
   "source": [
    "**Question 17:** Write a Python program to check if a year is a leap year."
   ]
  },
  {
   "cell_type": "code",
   "execution_count": 11,
   "metadata": {},
   "outputs": [
    {
     "name": "stdout",
     "output_type": "stream",
     "text": [
      "Leap year\n"
     ]
    }
   ],
   "source": [
    "# Your code here\n",
    "year=int(input(\"Enter year:\"))\n",
    "if year%4==0 and year%100!=0:\n",
    "    print(\"Leap year\")\n",
    "elif year%400==0:\n",
    "    print(\"leap year\")\n",
    "else:\n",
    "    print(\"not a leap year\")\n"
   ]
  },
  {
   "cell_type": "markdown",
   "metadata": {},
   "source": [
    "**Question 18:** Write a Python program to reverse a string."
   ]
  },
  {
   "cell_type": "code",
   "execution_count": 26,
   "metadata": {},
   "outputs": [
    {
     "name": "stdout",
     "output_type": "stream",
     "text": [
      "gfedcba\n"
     ]
    }
   ],
   "source": [
    "# Your code here\n",
    "s=str(input(\"str=\"))\n",
    "reverse_s=s[::-1]\n",
    "print(reverse_s)\n"
   ]
  },
  {
   "cell_type": "markdown",
   "metadata": {},
   "source": [
    "**Question 19:** Write a Python program to check if a string is a palindrome."
   ]
  },
  {
   "cell_type": "code",
   "execution_count": 29,
   "metadata": {},
   "outputs": [
    {
     "name": "stdout",
     "output_type": "stream",
     "text": [
      "string is a palindrome.\n"
     ]
    }
   ],
   "source": [
    "# Your code here\n",
    "s=str(input(\"str=\"))\n",
    "reverse_s=s[::-1]\n",
    "if s==reverse_s:\n",
    "    print(\"string is a palindrome.\")\n",
    "else:\n",
    "    print(\"String is not a palindrome.\")"
   ]
  },
  {
   "cell_type": "markdown",
   "metadata": {},
   "source": [
    "**Question 20:** Write a Python program to sort a list of numbers in ascending order."
   ]
  },
  {
   "cell_type": "code",
   "execution_count": 13,
   "metadata": {},
   "outputs": [
    {
     "name": "stdout",
     "output_type": "stream",
     "text": [
      "Sorted list: [0, 1, 5, 7, 7, 9, 20, 32, 72]\n"
     ]
    }
   ],
   "source": [
    "# Your code here\n",
    "numbers = [int(x) for x in input(\"Enter numbers separated by space: \").split()]\n",
    "numbers.sort()\n",
    "print(f\"Sorted list: {numbers}\")"
   ]
  },
  {
   "cell_type": "code",
   "execution_count": null,
   "metadata": {},
   "outputs": [],
   "source": []
  }
 ],
 "metadata": {
  "kernelspec": {
   "display_name": "base",
   "language": "python",
   "name": "python3"
  },
  "language_info": {
   "codemirror_mode": {
    "name": "ipython",
    "version": 3
   },
   "file_extension": ".py",
   "mimetype": "text/x-python",
   "name": "python",
   "nbconvert_exporter": "python",
   "pygments_lexer": "ipython3",
   "version": "3.12.7"
  }
 },
 "nbformat": 4,
 "nbformat_minor": 4
}
