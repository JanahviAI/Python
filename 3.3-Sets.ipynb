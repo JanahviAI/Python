{
 "cells": [
  {
   "cell_type": "markdown",
   "metadata": {},
   "source": [
    "## Sets\n",
    "\n",
    "Sets are a built-in data type in python used to store collections of unique items. They are unordered, meaning that the elements do not follow a specific order, and they do not allow duplicate elements. Sets are useful for membership test, eliminating duplicate entries, and performing mathematical set operations like union, intersection, difference am symmetric difference."
   ]
  },
  {
   "cell_type": "code",
   "execution_count": 2,
   "metadata": {},
   "outputs": [
    {
     "name": "stdout",
     "output_type": "stream",
     "text": [
      "{1, 2, 3, 4, 5}\n",
      "<class 'set'>\n"
     ]
    }
   ],
   "source": [
    "## creating a set\n",
    "\n",
    "My_set={1,2,3,4,5}\n",
    "print(My_set)\n",
    "print(type(My_set))"
   ]
  },
  {
   "cell_type": "code",
   "execution_count": 5,
   "metadata": {},
   "outputs": [
    {
     "name": "stdout",
     "output_type": "stream",
     "text": [
      "{1, 2, 3, 4, 5, 6, 7}\n"
     ]
    }
   ],
   "source": [
    "My_set=set([1,2,3,4,5,6,7])\n",
    "print(My_set)"
   ]
  },
  {
   "cell_type": "code",
   "execution_count": 7,
   "metadata": {},
   "outputs": [
    {
     "name": "stdout",
     "output_type": "stream",
     "text": [
      "{1, 2, 3, 4, 5, 6, 7, 8}\n"
     ]
    }
   ],
   "source": [
    "My_empty_set=set([1,2,3,4,5,8,6,5,6,7])\n",
    "print(My_empty_set)  #REpeated elements considered to be the same"
   ]
  },
  {
   "cell_type": "code",
   "execution_count": 19,
   "metadata": {},
   "outputs": [
    {
     "name": "stdout",
     "output_type": "stream",
     "text": [
      "{1, 2, 3, 4, 5, 6, 7}\n",
      "{1, 2, 3, 4, 5, 6, 7}\n",
      "{1, 2, 3, 4, 5, 6, 7}\n",
      "{1, 2, 3, 4, 5, 6, 7, 8}\n",
      "{2, 3, 4, 5, 6, 7, 8}\n",
      "{2, 3, 4, 6, 7, 8}\n"
     ]
    }
   ],
   "source": [
    "## Basic set operations\n",
    "##Adding and removing elements\n",
    "\n",
    "My_set={1,2,3,4,5,6,5,6,7}\n",
    "print(My_set)\n",
    "My_set.add(7)\n",
    "print(My_set)\n",
    "My_set.add(6)\n",
    "print(My_set)\n",
    "My_set.add(8)\n",
    "print(My_set)\n",
    "\n",
    "My_set.remove(1)\n",
    "print(My_set)\n",
    "My_set.remove(5)\n",
    "print(My_set)"
   ]
  },
  {
   "cell_type": "code",
   "execution_count": 20,
   "metadata": {},
   "outputs": [
    {
     "ename": "KeyError",
     "evalue": "9",
     "output_type": "error",
     "traceback": [
      "\u001b[1;31m---------------------------------------------------------------------------\u001b[0m",
      "\u001b[1;31mKeyError\u001b[0m                                  Traceback (most recent call last)",
      "Cell \u001b[1;32mIn[20], line 1\u001b[0m\n\u001b[1;32m----> 1\u001b[0m \u001b[43mMy_set\u001b[49m\u001b[38;5;241;43m.\u001b[39;49m\u001b[43mremove\u001b[49m\u001b[43m(\u001b[49m\u001b[38;5;241;43m9\u001b[39;49m\u001b[43m)\u001b[49m\n",
      "\u001b[1;31mKeyError\u001b[0m: 9"
     ]
    }
   ],
   "source": [
    "My_set.remove(9)"
   ]
  },
  {
   "cell_type": "code",
   "execution_count": 23,
   "metadata": {},
   "outputs": [
    {
     "name": "stdout",
     "output_type": "stream",
     "text": [
      "{2, 3, 4, 6, 7, 8}\n"
     ]
    }
   ],
   "source": [
    "My_set.discard(9) #Remove the element if it is present in the set otherwise, it will move on without any error\n",
    "print(My_set)"
   ]
  },
  {
   "cell_type": "code",
   "execution_count": 26,
   "metadata": {},
   "outputs": [
    {
     "name": "stdout",
     "output_type": "stream",
     "text": [
      "{2, 3, 4, 6, 7, 8}\n",
      "2\n",
      "{3, 4, 6, 7, 8}\n"
     ]
    }
   ],
   "source": [
    "##pop method\n",
    "My_set=set([2,3,4,6,7,8])\n",
    "print(My_set)\n",
    "removed_element=My_set.pop()\n",
    "print(removed_element)\n",
    "print(My_set)"
   ]
  },
  {
   "cell_type": "code",
   "execution_count": 27,
   "metadata": {},
   "outputs": [
    {
     "name": "stdout",
     "output_type": "stream",
     "text": [
      "set()\n"
     ]
    }
   ],
   "source": [
    "## Clear all the elements\n",
    "\n",
    "My_set.clear()\n",
    "print(My_set)"
   ]
  },
  {
   "cell_type": "code",
   "execution_count": 28,
   "metadata": {},
   "outputs": [
    {
     "name": "stdout",
     "output_type": "stream",
     "text": [
      "True\n",
      "False\n"
     ]
    }
   ],
   "source": [
    "## Set membership test\n",
    "\n",
    "My_set={1,2,3,4,5,6,7,8}\n",
    "print(3 in My_set)\n",
    "print(10 in My_set) ## Checks if the element is present in the set or not"
   ]
  },
  {
   "cell_type": "code",
   "execution_count": 36,
   "metadata": {},
   "outputs": [
    {
     "name": "stdout",
     "output_type": "stream",
     "text": [
      "{1, 2, 3, 4, 5, 6, 7, 9}\n",
      "{3, 5, 6}\n",
      "{1, 3, 4, 5, 6, 9}\n",
      "{3, 5, 6}\n",
      "set()\n"
     ]
    }
   ],
   "source": [
    "## Mathematical opration\n",
    "\n",
    "s1={2,3,5,6,7}\n",
    "s2={1,3,4,5,6,9}\n",
    "\n",
    "## Union\n",
    "unionset=s1.union(s2)\n",
    "print(unionset)\n",
    "\n",
    "## intersection\n",
    "intersectionset=s1.intersection(s2)\n",
    "print(intersectionset)\n",
    "\n",
    "s1.intersection_update(s2) ##Updates s1 by adding intersection elements to it \n",
    "print(s2)\n",
    "print(s1)\n",
    "\n",
    "print(s1.difference(s2))"
   ]
  },
  {
   "cell_type": "code",
   "execution_count": 41,
   "metadata": {},
   "outputs": [
    {
     "name": "stdout",
     "output_type": "stream",
     "text": [
      "{2, 7}\n",
      "{1, 4, 9}\n",
      "{2, 3, 5, 6, 7}\n",
      "{1, 3, 4, 5, 6, 9}\n",
      "None\n",
      "None\n",
      "{2, 7}\n",
      "{1, 3, 4, 5, 6, 9}\n"
     ]
    }
   ],
   "source": [
    "s1={2,3,5,6,7}\n",
    "s2={1,3,4,5,6,9}\n",
    "\n",
    "print(s1.difference(s2))\n",
    "print(s2.difference(s1))\n",
    "print(s1)\n",
    "print(s2)\n",
    "print(s1.difference_update(s2))\n",
    "print(s2.difference_update(s1))\n",
    "print(s1)\n",
    "print(s2)"
   ]
  },
  {
   "cell_type": "code",
   "execution_count": 44,
   "metadata": {},
   "outputs": [
    {
     "data": {
      "text/plain": [
       "{1, 2, 4, 7, 9}"
      ]
     },
     "execution_count": 44,
     "metadata": {},
     "output_type": "execute_result"
    }
   ],
   "source": [
    "## symmetric difference\n",
    "\n",
    "s1={2,3,5,6,7}\n",
    "s2={1,3,4,5,6,9}\n",
    "\n",
    "s1.symmetric_difference(s2) #common elements are removed"
   ]
  },
  {
   "cell_type": "code",
   "execution_count": 43,
   "metadata": {},
   "outputs": [
    {
     "data": {
      "text/plain": [
       "{1, 2, 4, 7, 9}"
      ]
     },
     "execution_count": 43,
     "metadata": {},
     "output_type": "execute_result"
    }
   ],
   "source": [
    "s1={2,3,5,6,7}\n",
    "s2={1,3,4,5,6,9}\n",
    "\n",
    "s2.symmetric_difference(s1)"
   ]
  },
  {
   "cell_type": "code",
   "execution_count": 48,
   "metadata": {},
   "outputs": [
    {
     "name": "stdout",
     "output_type": "stream",
     "text": [
      "False\n",
      "False\n",
      "True\n",
      "False\n",
      "True\n"
     ]
    }
   ],
   "source": [
    "## sets methods\n",
    "\n",
    "a={1,2,3}\n",
    "b={3,4,5}\n",
    "c={1,2,3,4,5}\n",
    "\n",
    "## is subset\n",
    "print(a.issubset(b))\n",
    "print(c.issubset(a))\n",
    "print(a.issubset(c))\n",
    "\n",
    "print(a.issuperset(b))\n",
    "print(c.issuperset(b))"
   ]
  },
  {
   "cell_type": "code",
   "execution_count": 49,
   "metadata": {},
   "outputs": [
    {
     "data": {
      "text/plain": [
       "{1, 2, 3, 4, 5, 6, 7}"
      ]
     },
     "execution_count": 49,
     "metadata": {},
     "output_type": "execute_result"
    }
   ],
   "source": [
    "List=[1,2,3,4,5,5,5,6,7,4]\n",
    "\n",
    "set(List)"
   ]
  },
  {
   "cell_type": "code",
   "execution_count": 53,
   "metadata": {},
   "outputs": [
    {
     "name": "stdout",
     "output_type": "stream",
     "text": [
      "['In', 'this', 'tutorial', 'we', 'are', 'discussing', 'about', 'sets', 'in', 'python.']\n",
      "10\n",
      "{'sets', 'we', 'tutorial', 'In', 'discussing', 'this', 'are', 'about', 'in', 'python.'}\n",
      "10\n"
     ]
    }
   ],
   "source": [
    "## COunting Unique words in text\n",
    "\n",
    "text=\"In this tutorial we are discussing about sets in python.\"\n",
    "words=text.split()\n",
    "print(words)\n",
    "print(len(words))\n",
    "\n",
    "## convert list of words to set to ge unique words\n",
    "\n",
    "unique_words=set(words)\n",
    "print(unique_words)\n",
    "print(len(unique_words))"
   ]
  }
 ],
 "metadata": {
  "kernelspec": {
   "display_name": "base",
   "language": "python",
   "name": "python3"
  },
  "language_info": {
   "codemirror_mode": {
    "name": "ipython",
    "version": 3
   },
   "file_extension": ".py",
   "mimetype": "text/x-python",
   "name": "python",
   "nbconvert_exporter": "python",
   "pygments_lexer": "ipython3",
   "version": "3.12.7"
  }
 },
 "nbformat": 4,
 "nbformat_minor": 2
}
